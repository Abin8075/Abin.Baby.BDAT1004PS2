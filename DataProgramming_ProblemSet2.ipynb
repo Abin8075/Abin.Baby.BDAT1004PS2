{
 "cells": [
  {
   "cell_type": "markdown",
   "id": "cd8d832b",
   "metadata": {},
   "source": [
    "Question- 1"
   ]
  },
  {
   "cell_type": "code",
   "execution_count": 6,
   "id": "9460dcb5",
   "metadata": {},
   "outputs": [
    {
     "name": "stdout",
     "output_type": "stream",
     "text": [
      "6\n"
     ]
    }
   ],
   "source": [
    "def b():\n",
    " global a\n",
    " a = c(a)\n",
    "\n",
    "def c(a):\n",
    " return a + 2\n",
    "\n",
    "a=0\n",
    "\n",
    "b()\n",
    "b()\n",
    "b()\n",
    "print(a)"
   ]
  },
  {
   "cell_type": "code",
   "execution_count": null,
   "id": "82ff8b29",
   "metadata": {},
   "outputs": [],
   "source": [
    "variable name 'a' is global variable inside function b. from function b, we are calling function c.during each call , the value of a is increased by 2."
   ]
  },
  {
   "cell_type": "markdown",
   "id": "25eb826b",
   "metadata": {},
   "source": [
    "Question- 2"
   ]
  },
  {
   "cell_type": "code",
   "execution_count": 7,
   "id": "007c00df",
   "metadata": {},
   "outputs": [
    {
     "name": "stdout",
     "output_type": "stream",
     "text": [
      "123\n",
      "File idterm.py not found!\n"
     ]
    }
   ],
   "source": [
    "def fileLength(filename):\n",
    "    try:\n",
    "        infile = open(filename)\n",
    "        content = infile.read()\n",
    "        infile.close()\n",
    "        print(len(content))\n",
    "    except:\n",
    "        print(\"File \"+filename+\" not found!\")\n",
    "fileLength(\"midterm.py\")\n",
    "fileLength(\"idterm.py\")"
   ]
  },
  {
   "cell_type": "markdown",
   "id": "125cd6a8",
   "metadata": {},
   "source": [
    "Question- 3"
   ]
  },
  {
   "cell_type": "code",
   "execution_count": 8,
   "id": "168dddbb",
   "metadata": {},
   "outputs": [
    {
     "name": "stdout",
     "output_type": "stream",
     "text": [
      "I am a Kangaroo located at coordinates ( 0,0)\n",
      "['doll', 'firetruck', 'kitten']\n",
      "I am a Kangaroo located at coordinates ( 3,0)\n"
     ]
    }
   ],
   "source": [
    "class Marsupial:                 \n",
    "    \n",
    "    def __init__(self,a,b):      \n",
    "        self.pouch=[]                   \n",
    "             \n",
    "    def put_in_pouch(self,items):   \n",
    "        self.pouch.append(items)\n",
    "        \n",
    "    def pouch_contents(self):           \n",
    "        return self.pouch\n",
    "\n",
    "class Kangaroo(Marsupial):         \n",
    "    def __init__(self,a,b):              \n",
    "        super().__init__(a,b)     \n",
    "        self.da = 0                      \n",
    "        self.db = 0                        \n",
    "    \n",
    "    def jump(self,a,b):                 \n",
    "        self.da = self.da + a   \n",
    "        self.db = self.db + b\n",
    "    \n",
    "    def __str__(self):          \n",
    "        \n",
    "        return ('I am a Kangaroo located at coordinates ( {},{})'.format(self.da,self.db))\n",
    "\n",
    "k = Kangaroo(0,0)\n",
    "print(k)\n",
    "k.put_in_pouch('doll')\n",
    "k.put_in_pouch('firetruck')\n",
    "k.put_in_pouch('kitten')\n",
    "k.pouch_contents()\n",
    "print(k.pouch)  \n",
    "k.jump(1,0)\n",
    "k.jump(1,0)\n",
    "k.jump(1,0)\n",
    "print(k)"
   ]
  },
  {
   "cell_type": "markdown",
   "id": "a9295eb7",
   "metadata": {},
   "source": [
    "Question - 4"
   ]
  },
  {
   "cell_type": "code",
   "execution_count": 9,
   "id": "f8553290",
   "metadata": {},
   "outputs": [
    {
     "name": "stdout",
     "output_type": "stream",
     "text": [
      "0\n",
      "1\n",
      "11\n",
      "1001\n"
     ]
    }
   ],
   "source": [
    "binary_numb =\"\"\n",
    "def binary (num):\n",
    "    global binary_numb\n",
    "    if(num!=1): # if number !=1\n",
    "        if(num==0):  #if number is 0\n",
    "            print(\"0\")\n",
    "        else:          \n",
    "            a=\"\"\n",
    "            remainder = int(num%2)\n",
    "            a =str(remainder)\n",
    "            binary_numb+=a\n",
    "            num =int(num/2)\n",
    "            binary(num)\n",
    "    else:\n",
    "        binary_numb +=\"1\"\n",
    "        binary_numb = binary_numb [::-1] \n",
    "        print(binary_numb)\n",
    "        binary_numb=\"\"\n",
    "        \n",
    "binary(0)\n",
    "binary(1)\n",
    "binary(3)\n",
    "binary(9)"
   ]
  },
  {
   "cell_type": "markdown",
   "id": "1988d0e2",
   "metadata": {},
   "source": [
    "Question - 5"
   ]
  },
  {
   "cell_type": "code",
   "execution_count": 10,
   "id": "69ba6bb3",
   "metadata": {},
   "outputs": [
    {
     "name": "stdout",
     "output_type": "stream",
     "text": [
      "1\n",
      "10\n",
      "5\n",
      "16\n",
      "8\n",
      "4\n",
      "2\n",
      "1\n"
     ]
    }
   ],
   "source": [
    "def collatz (x):\n",
    "    if(x != 1): #if value of x is not equal to 1\n",
    "        print(x ,end ='\\n')\n",
    "    if(x == 1): #if value of x is equal to 1\n",
    "        print(x ,end ='\\n')\n",
    "        return x\n",
    "    if(x%2 == 0): #if mode x is equal to 0\n",
    "        x = x // 2\n",
    "        collatz(x)\n",
    "    else:\n",
    "        x= 3*x + 1\n",
    "        collatz(x)\n",
    "\n",
    "\n",
    "collatz(1)\n",
    "collatz(10)"
   ]
  },
  {
   "cell_type": "markdown",
   "id": "47e833f7",
   "metadata": {},
   "source": [
    "Question - 6"
   ]
  },
  {
   "cell_type": "code",
   "execution_count": 11,
   "id": "ea46e1c1",
   "metadata": {},
   "outputs": [
    {
     "name": "stdout",
     "output_type": "stream",
     "text": [
      "W3C Mission\n",
      " Principles\n"
     ]
    }
   ],
   "source": [
    "from html.parser import HTMLParser\n",
    "class HeadingParser(HTMLParser):\n",
    "    ind = -1\n",
    "        \n",
    "    def handle_starttag(self, head, attrs):\n",
    "        if head == 'h1':\n",
    "            self.ind = 0\n",
    "        elif head == 'h2':\n",
    "            self.ind = 1\n",
    "        elif head == 'h3':\n",
    "            self.ind = 2\n",
    "        elif head == 'h4':\n",
    "            self.ind = 3\n",
    "        elif head == 'h5':\n",
    "            self.ind = 4            \n",
    "        elif head == 'h6':\n",
    "            self.ind = 5\n",
    "        else:\n",
    "            self.ind = -1\n",
    "               \n",
    "\n",
    "    def handle_data(self, data):\n",
    "        if data.strip() != \"\":\n",
    "            printWithIndentation(data, self.ind)\n",
    "        \n",
    "\n",
    "def printWithIndentation(text, ind):\n",
    "    if ind >= 0:\n",
    "        print(f\"{' ' * ind}{text}\")        \n",
    "\n",
    "infile = open(\"C:\\Abin\\w3c.html\") \n",
    "content = infile.read() \n",
    "infile.close() \n",
    "\n",
    "headingParser = HeadingParser()\n",
    "headingParser.feed(content)"
   ]
  },
  {
   "cell_type": "markdown",
   "id": "140eac84",
   "metadata": {},
   "source": [
    "Question - 8"
   ]
  },
  {
   "cell_type": "markdown",
   "id": "8663f5d8",
   "metadata": {},
   "source": [
    "Create a database seasonal_database;\n",
    "\n",
    "a . #All the temperature data\n",
    "\n",
    "SELECT temperature from seasonal_database;\n",
    "\n",
    "b .#All the cities, but without repetition\n",
    "\n",
    "SELECT DISTINCT(city) from seasonal_database;\n",
    "\n",
    "c . #All the records for India.\n",
    "\n",
    "SELECT * from seasonal_database where country = 'India';\n",
    "\n",
    "d . #All the Fall records.\n",
    "\n",
    "SELECT * from seasonal_database where season = 'Fall';\n",
    "\n",
    "e . #The city, country, and season for which the average rainfall is between 200 and 400 millimeters.\n",
    "\n",
    "SELECT city,country,season from seasonal_database where rainfall BETWEEN 200 and 400;\n",
    "\n",
    "f . #The city and country for which the average Fall temperature is above 20 degrees, in increasing temperature order\n",
    "\n",
    "SELECT city,country from seasonal_database where (season = 'Fall' and temperature > 20) Order BY temperature ASC;\n",
    "\n",
    "g . #The total annual rainfall for Cairo.\n",
    "\n",
    "SELECT sum(rainfall) from seasonal_database where city = 'Cairo';\n",
    "\n",
    "h . #The total rainfall for each season.\n",
    "\n",
    "SELECT season, sum(rainfall) from seasonal_database group by season;"
   ]
  },
  {
   "cell_type": "markdown",
   "id": "53d9d227",
   "metadata": {},
   "source": [
    "Question - 9"
   ]
  },
  {
   "cell_type": "code",
   "execution_count": 12,
   "id": "bda1a083",
   "metadata": {},
   "outputs": [
    {
     "name": "stdout",
     "output_type": "stream",
     "text": [
      "['THE', 'QUICK', 'BROWN', 'FOX', 'JUMPS', 'OVER', 'THE', 'LAZY', 'DOG']\n",
      "['the', 'quick', 'brown', 'fox', 'jumps', 'over', 'the', 'lazy', 'dog']\n",
      "[3, 5, 5, 3, 5, 4, 3, 4, 3]\n",
      "[['THE', 'the', 3], ['QUICK', 'quick', 5], ['BROWN', 'brown', 5], ['FOX', 'fox', 3], ['JUMPS', 'jumps', 5], ['OVER', 'over', 4], ['THE', 'the', 3], ['LAZY', 'lazy', 4], ['DOG', 'dog', 3]]\n",
      "['The', 'quick', 'brown', 'fox', 'jumps', 'over', 'the', 'lazy', 'dog']\n"
     ]
    }
   ],
   "source": [
    "words = ['The', 'quick', 'brown', 'fox', 'jumps', 'over', 'the', 'lazy', 'dog']\n",
    "upper=[]; #list for upper case letters\n",
    "lower=[]; #List for lower case letters\n",
    "length=[]; #list for find the length of the words\n",
    "comb=[]; #list for finding the upper case,lower case and length \n",
    "word=[]; #list for \n",
    "upper=([letter.upper() for letter in words])\n",
    "lower=([letter.lower() for letter in words])\n",
    "length=([len(letter) for letter in words])\n",
    "comb=([[letter.upper(), letter.lower(), len(letter)]for letter in words])\n",
    "word=([letter for letter in words if len(letter) >= 3])\n",
    "print(upper)\n",
    "print(lower)\n",
    "print(length)\n",
    "print(comb)\n",
    "print(word)\n"
   ]
  },
  {
   "cell_type": "code",
   "execution_count": null,
   "id": "81c77a87",
   "metadata": {},
   "outputs": [],
   "source": []
  }
 ],
 "metadata": {
  "kernelspec": {
   "display_name": "Python 3 (ipykernel)",
   "language": "python",
   "name": "python3"
  },
  "language_info": {
   "codemirror_mode": {
    "name": "ipython",
    "version": 3
   },
   "file_extension": ".py",
   "mimetype": "text/x-python",
   "name": "python",
   "nbconvert_exporter": "python",
   "pygments_lexer": "ipython3",
   "version": "3.9.12"
  }
 },
 "nbformat": 4,
 "nbformat_minor": 5
}
